{
  "nbformat": 4,
  "nbformat_minor": 0,
  "metadata": {
    "colab": {
      "provenance": [],
      "authorship_tag": "ABX9TyNzDzykd86WE/bHxlhG8mzY",
      "include_colab_link": true
    },
    "kernelspec": {
      "name": "python3",
      "display_name": "Python 3"
    },
    "language_info": {
      "name": "python"
    }
  },
  "cells": [
    {
      "cell_type": "markdown",
      "metadata": {
        "id": "view-in-github",
        "colab_type": "text"
      },
      "source": [
        "<a href=\"https://colab.research.google.com/github/2303a51015/AIML-2025/blob/main/RL_LAB3.ipynb\" target=\"_parent\"><img src=\"https://colab.research.google.com/assets/colab-badge.svg\" alt=\"Open In Colab\"/></a>"
      ]
    },
    {
      "cell_type": "code",
      "execution_count": null,
      "metadata": {
        "colab": {
          "base_uri": "https://localhost:8080/"
        },
        "id": "XvUkA1tl5OZR",
        "outputId": "a20c6bdb-8b10-4423-9f50-2892d126b464"
      },
      "outputs": [
        {
          "output_type": "stream",
          "name": "stdout",
          "text": [
            "Requirement already satisfied: gymnasium in /usr/local/lib/python3.11/dist-packages (1.2.0)\n",
            "Requirement already satisfied: numpy>=1.21.0 in /usr/local/lib/python3.11/dist-packages (from gymnasium) (2.0.2)\n",
            "Requirement already satisfied: cloudpickle>=1.2.0 in /usr/local/lib/python3.11/dist-packages (from gymnasium) (3.1.1)\n",
            "Requirement already satisfied: typing-extensions>=4.3.0 in /usr/local/lib/python3.11/dist-packages (from gymnasium) (4.14.1)\n",
            "Requirement already satisfied: farama-notifications>=0.0.1 in /usr/local/lib/python3.11/dist-packages (from gymnasium) (0.0.4)\n",
            "Requirement already satisfied: numpy in /usr/local/lib/python3.11/dist-packages (2.0.2)\n"
          ]
        }
      ],
      "source": [
        "!pip install gymnasium\n",
        "!pip install numpy"
      ]
    },
    {
      "cell_type": "code",
      "source": [
        "\n",
        "import gymnasium as gym\n",
        "import numpy as np\n",
        "from collections import defaultdict\n",
        "import random\n",
        "from typing import Dict, Tuple, List\n",
        "from tqdm import tqdm\n",
        "\n",
        "\n",
        "def make_epsilon_greedy_policy(Q: Dict, nA: int, epsilon: float):\n",
        "    \"\"\"Return a policy function that takes state and returns action probabilities.\"\"\"\n",
        "    def policy_fn(state):\n",
        "        probs = np.ones(nA) * (epsilon / nA)\n",
        "        q_vals = Q[state]\n",
        "        best_a = np.argmax(q_vals)\n",
        "        probs[best_a] += (1.0 - epsilon)\n",
        "        return probs\n",
        "    return policy_fn\n",
        "\n",
        "def generate_episode(env, policy):\n",
        "    \"\"\"Generate an episode: returns list of (state, action, reward). Uses policy as action-prob function.\"\"\"\n",
        "    episode = []\n",
        "    state, _ = env.reset()\n",
        "    done = False\n",
        "    while not done:\n",
        "        probs = policy(state)\n",
        "        action = np.random.choice(len(probs), p=probs)\n",
        "        next_state, reward, terminated, truncated, _ = env.step(action)\n",
        "        done = terminated or truncated\n",
        "        episode.append((state, action, reward))\n",
        "        state = next_state\n",
        "    return episode\n",
        "\n",
        "\n",
        "def mc_control_epsilon_greedy(env, num_episodes, gamma=1.0, epsilon=0.1, alpha=0.1):\n",
        "    \"\"\"\n",
        "    Finds an optimal epsilon-greedy policy using First-Visit MC Control.\n",
        "    Based on the logic from section 3.2 of your document.\n",
        "    \"\"\"\n",
        "\n",
        "    Q = defaultdict(lambda: np.zeros(env.action_space.n))\n",
        "\n",
        "\n",
        "    for i in tqdm(range(num_episodes)):\n",
        "\n",
        "        policy = make_epsilon_greedy_policy(Q, env.action_space.n, epsilon)\n",
        "\n",
        "\n",
        "        episode = generate_episode(env, policy)\n",
        "\n",
        "\n",
        "        sa_in_episode = set([(s, a) for s, a, r in episode])\n",
        "\n",
        "\n",
        "        for state, action in sa_in_episode:\n",
        "\n",
        "            first_occurrence_idx = next(i for i, x in enumerate(episode) if x[0] == state and x[1] == action)\n",
        "\n",
        "\n",
        "            G = sum([x[2] * (gamma ** i) for i, x in enumerate(episode[first_occurrence_idx:])])\n",
        "\n",
        "\n",
        "            Q[state][action] = Q[state][action] + alpha * (G - Q[state][action])\n",
        "\n",
        "    return Q\n",
        "\n",
        "\n",
        "if __name__ == '__main__':\n",
        "\n",
        "    env = gym.make('Blackjack-v1', sab=False)\n",
        "\n",
        "\n",
        "    print(\"Training the agent...\")\n",
        "    Q_optimal = mc_control_epsilon_greedy(env, num_episodes=500000)\n",
        "    print(\"Training finished.\")\n",
        "\n",
        "\n",
        "    print(\"\\nExample of the learned policy:\")\n",
        "\n",
        "    state_1 = (18, 7, False)\n",
        "\n",
        "    state_2 = (17, 3, True)\n",
        "\n",
        "    best_action_1 = np.argmax(Q_optimal[state_1])\n",
        "    best_action_2 = np.argmax(Q_optimal[state_2])\n",
        "\n",
        "    action_map = {0: \"Stick\", 1: \"Hit\"}\n",
        "\n",
        "    print(f\"For state {state_1}: Optimal action is to {action_map[best_action_1]}\")\n",
        "    print(f\"For state {state_2}: Optimal action is to {action_map[best_action_2]}\")\n",
        "\n",
        "    env.close()"
      ],
      "metadata": {
        "colab": {
          "base_uri": "https://localhost:8080/"
        },
        "id": "OXC9B80u5p32",
        "outputId": "a8a76caf-fbf3-4410-9f2d-496cc1c4b385"
      },
      "execution_count": 2,
      "outputs": [
        {
          "output_type": "stream",
          "name": "stdout",
          "text": [
            "Training the agent...\n"
          ]
        },
        {
          "output_type": "stream",
          "name": "stderr",
          "text": [
            "100%|██████████| 500000/500000 [02:03<00:00, 4032.28it/s]"
          ]
        },
        {
          "output_type": "stream",
          "name": "stdout",
          "text": [
            "Training finished.\n",
            "\n",
            "Example of the learned policy:\n",
            "For state (18, 7, False): Optimal action is to Stick\n",
            "For state (17, 3, True): Optimal action is to Hit\n"
          ]
        },
        {
          "output_type": "stream",
          "name": "stderr",
          "text": [
            "\n"
          ]
        }
      ]
    }
  ]
}