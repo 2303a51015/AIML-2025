{
  "nbformat": 4,
  "nbformat_minor": 0,
  "metadata": {
    "colab": {
      "provenance": [],
      "authorship_tag": "ABX9TyPD0ZGQ33iRmVzlPCAly0J1",
      "include_colab_link": true
    },
    "kernelspec": {
      "name": "python3",
      "display_name": "Python 3"
    },
    "language_info": {
      "name": "python"
    }
  },
  "cells": [
    {
      "cell_type": "markdown",
      "metadata": {
        "id": "view-in-github",
        "colab_type": "text"
      },
      "source": [
        "<a href=\"https://colab.research.google.com/github/2303a51015/AIML-2025/blob/main/RL_LAB1.ipynb\" target=\"_parent\"><img src=\"https://colab.research.google.com/assets/colab-badge.svg\" alt=\"Open In Colab\"/></a>"
      ]
    },
    {
      "cell_type": "code",
      "execution_count": null,
      "metadata": {
        "colab": {
          "base_uri": "https://localhost:8080/"
        },
        "id": "duQiOY9Fvl8N",
        "outputId": "0b947135-5657-4ad4-b16c-a3582adbef08"
      },
      "outputs": [
        {
          "output_type": "stream",
          "name": "stdout",
          "text": [
            "Starting simulation...\n",
            "Observation space: Box([-4.8               -inf -0.41887903        -inf], [4.8               inf 0.41887903        inf], (4,), float32)\n",
            "Action space: Discrete(2)\n",
            "Episode finished after 17 steps. Restarting...\n",
            "Episode finished after 34 steps. Restarting...\n",
            "Episode finished after 84 steps. Restarting...\n",
            "Episode finished after 98 steps. Restarting...\n",
            "Episode finished after 110 steps. Restarting...\n",
            "Episode finished after 123 steps. Restarting...\n",
            "Episode finished after 177 steps. Restarting...\n",
            "Episode finished after 191 steps. Restarting...\n",
            "Episode finished after 203 steps. Restarting...\n",
            "Episode finished after 217 steps. Restarting...\n",
            "Episode finished after 240 steps. Restarting...\n",
            "Episode finished after 273 steps. Restarting...\n",
            "Episode finished after 283 steps. Restarting...\n",
            "Episode finished after 298 steps. Restarting...\n",
            "Episode finished after 311 steps. Restarting...\n",
            "Episode finished after 323 steps. Restarting...\n",
            "Episode finished after 370 steps. Restarting...\n",
            "Episode finished after 385 steps. Restarting...\n",
            "Episode finished after 438 steps. Restarting...\n",
            "Episode finished after 457 steps. Restarting...\n",
            "Episode finished after 484 steps. Restarting...\n",
            "Episode finished after 495 steps. Restarting...\n",
            "Episode finished after 549 steps. Restarting...\n",
            "Episode finished after 560 steps. Restarting...\n"
          ]
        }
      ],
      "source": [
        "import gymnasium as gym\n",
        "import time\n",
        "\n",
        "# Create the environment with a graphical user interface\n",
        "# The \"human\" render mode will pop up a window to show the simulation [cite: 13]\n",
        "env = gym.make(\"CartPole-v1\", render_mode=\"human\")\n",
        "\n",
        "# Reset the environment to get the initial state [cite: 14, 15]\n",
        "observation, info = env.reset()\n",
        "\n",
        "print(\"Starting simulation...\")\n",
        "print(\"Observation space:\", env.observation_space) # [cite: 25]\n",
        "print(\"Action space:\", env.action_space) # [cite: 26]\n",
        "\n",
        "# Run the simulation for a set number of steps\n",
        "for step in range(1000):\n",
        "    # Select a random action from the available action space [cite: 18]\n",
        "    action = env.action_space.sample()\n",
        "\n",
        "    # Take the action and get the new state, reward, and other info [cite: 19]\n",
        "    observation, reward, done, truncated, info = env.step(action)\n",
        "\n",
        "    # If the episode is over (pole fell or cart went off-screen), reset it [cite: 20]\n",
        "    if done or truncated:\n",
        "        print(f\"Episode finished after {step + 1} steps. Restarting...\") # [cite: 21]\n",
        "        observation, info = env.reset() # [cite: 22]\n",
        "\n",
        "# Close the environment window when done [cite: 23]\n",
        "env.close()\n",
        "\n",
        "print(\"Simulation finished.\")"
      ]
    }
  ]
}